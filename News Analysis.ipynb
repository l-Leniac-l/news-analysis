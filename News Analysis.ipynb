{
 "cells": [
  {
   "cell_type": "markdown",
   "metadata": {},
   "source": [
    "# Brazilian Newspaper analysis\n",
    "\n",
    "In this project, we'll use a dataset from a Brazilian Newspaper called \"Folha de São Paulo\".\n",
    "\n",
    "We're gonna use word embeddings, tensorboard and rnn's and check what we can find in this dataset.\n",
    "\n",
    "You can find the dataset at [kaggle](https://www.kaggle.com/marlesson/news-of-the-site-folhauol).\n",
    "\n",
    "I want to find in this study case:\n",
    "\n",
    "+ Political opinions\n",
    "+ Check if this newspaper is impartial or biased\n",
    "\n",
    "So, let's start it"
   ]
  },
  {
   "cell_type": "markdown",
   "metadata": {},
   "source": [
    "## Loading the data\n",
    "\n",
    "After downloading the dataset, put it on a directory `data/` and let's load it using pandas."
   ]
  },
  {
   "cell_type": "code",
   "execution_count": 1,
   "metadata": {
    "collapsed": true
   },
   "outputs": [],
   "source": [
    "# Import dependencies\n",
    "\n",
    "import pandas as pd\n",
    "import numpy as np\n",
    "import tensorflow as tf\n",
    "import matplotlib\n",
    "import os\n",
    "import pickle"
   ]
  },
  {
   "cell_type": "code",
   "execution_count": 2,
   "metadata": {},
   "outputs": [
    {
     "data": {
      "text/html": [
       "<div>\n",
       "<style>\n",
       "    .dataframe thead tr:only-child th {\n",
       "        text-align: right;\n",
       "    }\n",
       "\n",
       "    .dataframe thead th {\n",
       "        text-align: left;\n",
       "    }\n",
       "\n",
       "    .dataframe tbody tr th {\n",
       "        vertical-align: top;\n",
       "    }\n",
       "</style>\n",
       "<table border=\"1\" class=\"dataframe\">\n",
       "  <thead>\n",
       "    <tr style=\"text-align: right;\">\n",
       "      <th></th>\n",
       "      <th>title</th>\n",
       "      <th>text</th>\n",
       "      <th>date</th>\n",
       "      <th>category</th>\n",
       "      <th>subcategory</th>\n",
       "      <th>link</th>\n",
       "    </tr>\n",
       "  </thead>\n",
       "  <tbody>\n",
       "    <tr>\n",
       "      <th>0</th>\n",
       "      <td>Lula diz que está 'lascado', mas que ainda tem...</td>\n",
       "      <td>Com a possibilidade de uma condenação impedir ...</td>\n",
       "      <td>2017-09-10</td>\n",
       "      <td>poder</td>\n",
       "      <td>NaN</td>\n",
       "      <td>http://www1.folha.uol.com.br/poder/2017/10/192...</td>\n",
       "    </tr>\n",
       "    <tr>\n",
       "      <th>1</th>\n",
       "      <td>'Decidi ser escrava das mulheres que sofrem', ...</td>\n",
       "      <td>Para Oumou Sangaré, cantora e ativista malines...</td>\n",
       "      <td>2017-09-10</td>\n",
       "      <td>ilustrada</td>\n",
       "      <td>NaN</td>\n",
       "      <td>http://www1.folha.uol.com.br/ilustrada/2017/10...</td>\n",
       "    </tr>\n",
       "    <tr>\n",
       "      <th>2</th>\n",
       "      <td>Três reportagens da Folha ganham Prêmio Petrob...</td>\n",
       "      <td>Três reportagens da Folha foram vencedoras do ...</td>\n",
       "      <td>2017-09-10</td>\n",
       "      <td>poder</td>\n",
       "      <td>NaN</td>\n",
       "      <td>http://www1.folha.uol.com.br/poder/2017/10/192...</td>\n",
       "    </tr>\n",
       "    <tr>\n",
       "      <th>3</th>\n",
       "      <td>Filme 'Star Wars: Os Últimos Jedi' ganha trail...</td>\n",
       "      <td>A Disney divulgou na noite desta segunda-feira...</td>\n",
       "      <td>2017-09-10</td>\n",
       "      <td>ilustrada</td>\n",
       "      <td>NaN</td>\n",
       "      <td>http://www1.folha.uol.com.br/ilustrada/2017/10...</td>\n",
       "    </tr>\n",
       "    <tr>\n",
       "      <th>4</th>\n",
       "      <td>CBSS inicia acordos com fintechs e quer 30% do...</td>\n",
       "      <td>O CBSS, banco da holding Elopar dos sócios Bra...</td>\n",
       "      <td>2017-09-10</td>\n",
       "      <td>mercado</td>\n",
       "      <td>NaN</td>\n",
       "      <td>http://www1.folha.uol.com.br/mercado/2017/10/1...</td>\n",
       "    </tr>\n",
       "  </tbody>\n",
       "</table>\n",
       "</div>"
      ],
      "text/plain": [
       "                                               title  \\\n",
       "0  Lula diz que está 'lascado', mas que ainda tem...   \n",
       "1  'Decidi ser escrava das mulheres que sofrem', ...   \n",
       "2  Três reportagens da Folha ganham Prêmio Petrob...   \n",
       "3  Filme 'Star Wars: Os Últimos Jedi' ganha trail...   \n",
       "4  CBSS inicia acordos com fintechs e quer 30% do...   \n",
       "\n",
       "                                                text        date   category  \\\n",
       "0  Com a possibilidade de uma condenação impedir ...  2017-09-10      poder   \n",
       "1  Para Oumou Sangaré, cantora e ativista malines...  2017-09-10  ilustrada   \n",
       "2  Três reportagens da Folha foram vencedoras do ...  2017-09-10      poder   \n",
       "3  A Disney divulgou na noite desta segunda-feira...  2017-09-10  ilustrada   \n",
       "4  O CBSS, banco da holding Elopar dos sócios Bra...  2017-09-10    mercado   \n",
       "\n",
       "  subcategory                                               link  \n",
       "0         NaN  http://www1.folha.uol.com.br/poder/2017/10/192...  \n",
       "1         NaN  http://www1.folha.uol.com.br/ilustrada/2017/10...  \n",
       "2         NaN  http://www1.folha.uol.com.br/poder/2017/10/192...  \n",
       "3         NaN  http://www1.folha.uol.com.br/ilustrada/2017/10...  \n",
       "4         NaN  http://www1.folha.uol.com.br/mercado/2017/10/1...  "
      ]
     },
     "execution_count": 2,
     "metadata": {},
     "output_type": "execute_result"
    }
   ],
   "source": [
    "dataset = pd.read_csv('data/articles.csv')\n",
    "\n",
    "dataset.head()"
   ]
  },
  {
   "cell_type": "markdown",
   "metadata": {},
   "source": [
    "## Preprocessing the data"
   ]
  },
  {
   "cell_type": "markdown",
   "metadata": {},
   "source": [
    "### Merging title and text\n",
    "To maintain article titles and text related, let's merge then together and use this merged text as our inputs"
   ]
  },
  {
   "cell_type": "code",
   "execution_count": 3,
   "metadata": {},
   "outputs": [
    {
     "name": "stdout",
     "output_type": "stream",
     "text": [
      "Lula diz que está 'lascado', mas que ainda tem força como cabo eleitoral ---- Com a possibilidade de uma condenação impedir sua candidatura em 2018, o ex-presidente Luiz Inácio Lula da Silva fez, nesta segunda (9), um discurso inflamado contra a Lava Jato, no qual disse saber que está \"lascado\", exigiu um pedido de desculpas do juiz Sergio Moro e afirmou que, mesmo fora da disputa pelo Planalto, será um cabo eleitoral expressivo para a sucessão de Michel Temer.  Segundo o petista, réu em sete ações penais, o objetivo de Moro é impedir sua candidatura no ano que vem, desidratando-o, inclusive, no apoio a um nome alternativo, como o do ex-prefeito de São Paulo Fernando Haddad (PT), caso ele não possa concorrer à Presidência.  \"Eu sei que tô lascado, todo dia tem um processo. Eu não quero nem que Moro me absolva, eu só quero que ele peça desculpas\", disse Lula durante um seminário sobre educação em Brasília. \"Eles [investigadores] chegam a dizer: 'Ah, se o Lula não for candidato, ele não vai ter força como cabo eleitoral'. Testem\", completou o petista.  Para o ex-presidente, Moro usou \"mentiras contadas pela Polícia Federal e pelo Ministério Público\" para julgá-lo e condená-lo a nove anos e seis meses de prisão pelo caso do tríplex em Guarujá (SP).  O ex-presidente disse ainda não ter \"medo\" dos investigadores que, de acordo com ele, estão acostumados a \"mexer com deputados e senadores\" que temem as apurações.  \"Eu quero que eles saibam o seguinte: se eles estão acostumados a lidar com deputado que tem medo deles, a mexer com senadores que têm medo deles, quero dizer que tenho respeito profundo por quem me respeita, pelas leis que nós ajudamos a criar, mas não tenho respeito por quem não me respeita e eles não me respeitaram\", afirmou o petista.    De acordo com aliados, Lula não gosta de discutir, mesmo que nos bastidores, a chance de não ser candidato ao Planalto e a projeção do nome de Haddad como plano B do PT tem incomodado os mais próximos ao ex-presidente. O ex-prefeito, que estava no evento nesta segunda, fez um discurso rápido, de menos de dez minutos, em que encerrou dizendo esperar que Lula assuma a Presidência em 2019.  \"Espero que dia 1º de janeiro de 2019 esse pesadelo chamado Temer acabe e o senhor assuma a Presidência da República\", disse Haddad.  'DEMÔNIO DO MERCADO'  Lula voltou a fazer um discurso mais agressivo em relação ao mercado e disse que \"não tem cara de demônio\", mas quer que o respeitem \"como se fosse\".  \"Não tenho cara de demônio, mas quero que eles me respeitem como se eu fosse, porque eles sabem que a economia não vai ficar subordinada ao elitismo da sociedade brasileira\", disse o ex-presidente.  O petista rivalizou ainda com o deputado Jair Bolsonaro (PSC-RJ), segundo colocado nas últimas pesquisas empatado com Marina Silva, e disse que se ele \"agrada ao mercado\", o PT tem que \"desagradar\".  A Folha publicou nesta segunda (9) reportagem em que mostrou que o deputado ensaia movimento ao centro no debate econômico, adotando um discurso simpático aos investidores do mercado financeiro.\n"
     ]
    }
   ],
   "source": [
    "# Merges the title and text with a separator (---)\n",
    "merged_text = [str(title) + ' ---- ' + str(text) for title, text in zip(dataset.title, dataset.text)]\n",
    "\n",
    "print(merged_text[0])"
   ]
  },
  {
   "cell_type": "markdown",
   "metadata": {},
   "source": [
    "### Tokenizing punctuation\n",
    "We need to tokenize all text punctuation, otherwise the network will see punctuated words differently (eg: hello != hello!)"
   ]
  },
  {
   "cell_type": "code",
   "execution_count": 4,
   "metadata": {},
   "outputs": [
    {
     "name": "stdout",
     "output_type": "stream",
     "text": [
      "Lula diz que está  ||single_quote|| lascado ||single_quote||  ||comma||  mas que ainda tem força como cabo eleitoral  ||dash||  ||dash||  Com a possibilidade de uma condenação impedir sua candidatura em 2018 ||comma||  o ex-presidente Luiz Inácio Lula da Silva fez ||comma||  nesta segunda  ||parentheses_left|| 9 ||parentheses_right||  ||comma||  um discurso inflamado contra a Lava Jato ||comma||  no qual disse saber que está  ||quote|| lascado ||quote||  ||comma||  exigiu um pedido de desculpas do juiz Sergio Moro e afirmou que ||comma||  mesmo fora da disputa pelo Planalto ||comma||  será um cabo eleitoral expressivo para a sucessão de Michel Temer ||period||   Segundo o petista ||comma||  réu em sete ações penais ||comma||  o objetivo de Moro é impedir sua candidatura no ano que vem ||comma||  desidratando-o ||comma||  inclusive ||comma||  no apoio a um nome alternativo ||comma||  como o do ex-prefeito de São Paulo Fernando Haddad  ||parentheses_left|| PT ||parentheses_right||  ||comma||  caso ele não possa concorrer à Presidência ||period||    ||quote|| Eu sei que tô lascado ||comma||  todo dia tem um processo ||period||  Eu não quero nem que Moro me absolva ||comma||  eu só quero que ele peça desculpas ||quote||  ||comma||  disse Lula durante um seminário sobre educação em Brasília ||period||   ||quote|| Eles [investigadores] chegam a dizer ||colon||   ||single_quote|| Ah ||comma||  se o Lula não for candidato ||comma||  ele não vai ter força como cabo eleitoral ||single_quote||  ||period||  Testem ||quote||  ||comma||  completou o petista ||period||   Para o ex-presidente ||comma||  Moro usou  ||quote|| mentiras contadas pela Polícia Federal e pelo Ministério Público ||quote||  para julgá-lo e condená-lo a nove anos e seis meses de prisão pelo caso do tríplex em Guarujá  ||parentheses_left|| SP ||parentheses_right||  ||period||   O ex-presidente disse ainda não ter  ||quote|| medo ||quote||  dos investigadores que ||comma||  de acordo com ele ||comma||  estão acostumados a  ||quote|| mexer com deputados e senadores ||quote||  que temem as apurações ||period||    ||quote|| Eu quero que eles saibam o seguinte ||colon||  se eles estão acostumados a lidar com deputado que tem medo deles ||comma||  a mexer com senadores que têm medo deles ||comma||  quero dizer que tenho respeito profundo por quem me respeita ||comma||  pelas leis que nós ajudamos a criar ||comma||  mas não tenho respeito por quem não me respeita e eles não me respeitaram ||quote||  ||comma||  afirmou o petista ||period||     De acordo com aliados ||comma||  Lula não gosta de discutir ||comma||  mesmo que nos bastidores ||comma||  a chance de não ser candidato ao Planalto e a projeção do nome de Haddad como plano B do PT tem incomodado os mais próximos ao ex-presidente ||period||  O ex-prefeito ||comma||  que estava no evento nesta segunda ||comma||  fez um discurso rápido ||comma||  de menos de dez minutos ||comma||  em que encerrou dizendo esperar que Lula assuma a Presidência em 2019 ||period||    ||quote|| Espero que dia 1º de janeiro de 2019 esse pesadelo chamado Temer acabe e o senhor assuma a Presidência da República ||quote||  ||comma||  disse Haddad ||period||    ||single_quote|| DEMÔNIO DO MERCADO ||single_quote||   Lula voltou a fazer um discurso mais agressivo em relação ao mercado e disse que  ||quote|| não tem cara de demônio ||quote||  ||comma||  mas quer que o respeitem  ||quote|| como se fosse ||quote||  ||period||    ||quote|| Não tenho cara de demônio ||comma||  mas quero que eles me respeitem como se eu fosse ||comma||  porque eles sabem que a economia não vai ficar subordinada ao elitismo da sociedade brasileira ||quote||  ||comma||  disse o ex-presidente ||period||   O petista rivalizou ainda com o deputado Jair Bolsonaro  ||parentheses_left|| PSC-RJ ||parentheses_right||  ||comma||  segundo colocado nas últimas pesquisas empatado com Marina Silva ||comma||  e disse que se ele  ||quote|| agrada ao mercado ||quote||  ||comma||  o PT tem que  ||quote|| desagradar ||quote||  ||period||   A Folha publicou nesta segunda  ||parentheses_left|| 9 ||parentheses_right||  reportagem em que mostrou que o deputado ensaia movimento ao centro no debate econômico ||comma||  adotando um discurso simpático aos investidores do mercado financeiro ||period|| \n"
     ]
    }
   ],
   "source": [
    "def token_lookup():\n",
    "    tokens = {\n",
    "        '.'  : 'period',\n",
    "        ','  : 'comma',\n",
    "        '\"'  : 'quote',\n",
    "        '\\'' : 'single_quote',\n",
    "        ';'  : 'semicolon',\n",
    "        ':'  : 'colon',\n",
    "        '!'  : 'exclamation_mark',\n",
    "        '?'  : 'question_mark',\n",
    "        '('  : 'parentheses_left',\n",
    "        ')'  : 'parentheses_right',\n",
    "        '--' : 'dash',\n",
    "        '\\n' : 'return'\n",
    "    }\n",
    "    \n",
    "    return {token: '||{0}||'.format(value) for token, value in tokens.items()}\n",
    "\n",
    "token_dict = token_lookup()\n",
    "\n",
    "tokenized_text = []\n",
    "\n",
    "for text in merged_text:\n",
    "    for key, token in token_dict.items():\n",
    "        text = text.replace(key, ' {} '.format(token))\n",
    "    \n",
    "    tokenized_text.append(text)\n",
    "\n",
    "print(tokenized_text[0])"
   ]
  },
  {
   "cell_type": "markdown",
   "metadata": {},
   "source": [
    "### Lookup tables\n",
    "\n",
    "We need to create two dicts: `word_to_int` and `int_to_word`."
   ]
  },
  {
   "cell_type": "code",
   "execution_count": 8,
   "metadata": {},
   "outputs": [
    {
     "name": "stdout",
     "output_type": "stream",
     "text": [
      "First ten vocab words: \n",
      "[('orginária', 0), ('Lombok', 1), ('Mercearias', 2), ('compartilhando', 3), ('estadocentrismo', 4), ('férreas', 5), ('rikênio', 6), ('CAMINHÕES-PIPA', 7), ('Eindrücke', 8), ('grastronômicas', 9)]\n",
      "\n",
      "Vocab length:\n",
      "562119\n"
     ]
    }
   ],
   "source": [
    "def lookup_tables(tokenized_text):\n",
    "    vocab = set()\n",
    "    \n",
    "    for text in tokenized_text:\n",
    "        vocab = vocab.union(set(text.split()))\n",
    "    \n",
    "    vocab_to_int = {word: ii for ii, word in enumerate(vocab)}\n",
    "    int_to_vocab = {ii: word for ii, word in enumerate(vocab)}\n",
    "    \n",
    "    return vocab_to_int, int_to_vocab\n",
    "\n",
    "vocab_to_int, int_to_vocab = lookup_tables(tokenized_text)\n",
    "\n",
    "print('First ten vocab words: ')\n",
    "print(list(vocab_to_int.items())[0:10])\n",
    "print('\\nVocab length:')\n",
    "print(len(vocab_to_int))\n",
    "\n",
    "pickle.dump((tokenized_text, vocab_to_int, int_to_vocab, token_dict), open('preprocess/preprocess.p', 'wb'))"
   ]
  },
  {
   "cell_type": "code",
   "execution_count": null,
   "metadata": {
    "collapsed": true
   },
   "outputs": [],
   "source": []
  }
 ],
 "metadata": {
  "kernelspec": {
   "display_name": "Python 3",
   "language": "python",
   "name": "python3"
  },
  "language_info": {
   "codemirror_mode": {
    "name": "ipython",
    "version": 3
   },
   "file_extension": ".py",
   "mimetype": "text/x-python",
   "name": "python",
   "nbconvert_exporter": "python",
   "pygments_lexer": "ipython3",
   "version": "3.6.2"
  }
 },
 "nbformat": 4,
 "nbformat_minor": 2
}
